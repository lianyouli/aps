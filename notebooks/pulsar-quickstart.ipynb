{
 "cells": [
  {
   "cell_type": "code",
   "execution_count": 23,
   "metadata": {},
   "outputs": [],
   "source": [
    "from pulsar import Client, MessageId"
   ]
  },
  {
   "cell_type": "code",
   "execution_count": 16,
   "metadata": {},
   "outputs": [],
   "source": [
    "client = Client(service_url=\"pulsar://localhost:6650\")"
   ]
  },
  {
   "cell_type": "code",
   "execution_count": 22,
   "metadata": {},
   "outputs": [
    {
     "name": "stdout",
     "output_type": "stream",
     "text": [
      "2023-04-14 22:04:06.680 INFO  [0x110cef600] Client:87 | Subscribing on Topic :qs-topic\n",
      "2023-04-14 22:04:06.681 INFO  [0x700008480000] HandlerBase:72 | [persistent://public/default/qs-topic, my-sub4, 5] Getting connection from pool\n",
      "2023-04-14 22:04:06.695 INFO  [0x700008480000] ConsumerImpl:238 | [persistent://public/default/qs-topic, my-sub4, 5] Created consumer on broker [127.0.0.1:50553 -> 127.0.0.1:6650] \n",
      "b'Message NO.1' (17,20,-1,-1) 0 \n",
      "b'Message NO.2' (17,21,-1,-1) 0 \n",
      "b'Message NO.3' (17,22,-1,-1) 0 \n",
      "b'Message NO.4' (17,23,-1,-1) 0 \n",
      "b'Message NO.5' (17,24,-1,-1) 0 \n",
      "b'Message NO.6' (17,25,-1,-1) 0 \n",
      "b'Message NO.7' (17,26,-1,-1) 0 \n",
      "b'Message NO.8' (17,27,-1,-1) 0 \n",
      "b'Message NO.9' (17,28,-1,-1) 0 \n",
      "b'Message NO.10' (17,29,-1,-1) 0 \n"
     ]
    },
    {
     "ename": "Interrupted",
     "evalue": "Pulsar error: ResultInterrupted",
     "output_type": "error",
     "traceback": [
      "\u001b[0;31m---------------------------------------------------------------------------\u001b[0m",
      "\u001b[0;31mInterrupted\u001b[0m                               Traceback (most recent call last)",
      "Cell \u001b[0;32mIn[22], line 4\u001b[0m\n\u001b[1;32m      2\u001b[0m \u001b[39m# with client.subscribe('qs-topic', subscription_name=\"my-sub2\") as consumer:\u001b[39;00m\n\u001b[1;32m      3\u001b[0m \u001b[39mwhile\u001b[39;00m \u001b[39mTrue\u001b[39;00m:\n\u001b[0;32m----> 4\u001b[0m     msg \u001b[39m=\u001b[39m consumer\u001b[39m.\u001b[39;49mreceive()\n\u001b[1;32m      5\u001b[0m     \u001b[39mprint\u001b[39m(msg\u001b[39m.\u001b[39mdata(), msg\u001b[39m.\u001b[39mmessage_id(), msg\u001b[39m.\u001b[39mevent_timestamp(), msg\u001b[39m.\u001b[39mpartition_key())\n\u001b[1;32m      7\u001b[0m consumer\u001b[39m.\u001b[39mclose()\n",
      "File \u001b[0;32m~/opt/miniconda3/lib/python3.9/site-packages/pulsar/__init__.py:1243\u001b[0m, in \u001b[0;36mConsumer.receive\u001b[0;34m(self, timeout_millis)\u001b[0m\n\u001b[1;32m   1230\u001b[0m \u001b[39m\"\"\"\u001b[39;00m\n\u001b[1;32m   1231\u001b[0m \u001b[39mReceive a single message.\u001b[39;00m\n\u001b[1;32m   1232\u001b[0m \n\u001b[0;32m   (...)\u001b[0m\n\u001b[1;32m   1240\u001b[0m \u001b[39m    If specified, the receiver will raise an exception if a message is not available within the timeout.\u001b[39;00m\n\u001b[1;32m   1241\u001b[0m \u001b[39m\"\"\"\u001b[39;00m\n\u001b[1;32m   1242\u001b[0m \u001b[39mif\u001b[39;00m timeout_millis \u001b[39mis\u001b[39;00m \u001b[39mNone\u001b[39;00m:\n\u001b[0;32m-> 1243\u001b[0m     msg \u001b[39m=\u001b[39m \u001b[39mself\u001b[39;49m\u001b[39m.\u001b[39;49m_consumer\u001b[39m.\u001b[39;49mreceive()\n\u001b[1;32m   1244\u001b[0m \u001b[39melse\u001b[39;00m:\n\u001b[1;32m   1245\u001b[0m     _check_type(\u001b[39mint\u001b[39m, timeout_millis, \u001b[39m'\u001b[39m\u001b[39mtimeout_millis\u001b[39m\u001b[39m'\u001b[39m)\n",
      "\u001b[0;31mInterrupted\u001b[0m: Pulsar error: ResultInterrupted"
     ]
    }
   ],
   "source": [
    "consumer = client.subscribe('qs-topic', 'my-sub4')\n",
    "# with client.subscribe('qs-topic', subscription_name=\"my-sub2\") as consumer:\n",
    "while True:\n",
    "    msg = consumer.receive()\n",
    "    print(msg.data(), msg.message_id(), msg.event_timestamp(), msg.partition_key())\n",
    "    consumer.acknowledge(msg)\n",
    "    \n",
    "consumer.close()"
   ]
  },
  {
   "cell_type": "code",
   "execution_count": 27,
   "metadata": {},
   "outputs": [
    {
     "name": "stdout",
     "output_type": "stream",
     "text": [
      "2023-04-14 22:15:25.586 INFO  [0x700008480000] HandlerBase:72 | [persistent://public/default/qs-topic, reader-8ee03d3ef4, 9] Getting connection from pool\n",
      "2023-04-14 22:15:25.591 INFO  [0x700008480000] ConsumerImpl:238 | [persistent://public/default/qs-topic, reader-8ee03d3ef4, 9] Created consumer on broker [127.0.0.1:50553 -> 127.0.0.1:6650] \n",
      "msg data: b'Message NO.1'           \t msg id: (17,0,-1,-1)           \t partition_key:            \t publish_timestamp: 1681469762305           \t  event_timestamp: 0           \t redelivery_count: 0           \t schema_version:            \t properties: {}           \t value: b'Message NO.1'\n",
      "msg data: b'Message NO.2'           \t msg id: (17,1,-1,-1)           \t partition_key:            \t publish_timestamp: 1681469762359           \t  event_timestamp: 0           \t redelivery_count: 0           \t schema_version:            \t properties: {}           \t value: b'Message NO.2'\n",
      "msg data: b'Message NO.3'           \t msg id: (17,2,-1,-1)           \t partition_key:            \t publish_timestamp: 1681469762362           \t  event_timestamp: 0           \t redelivery_count: 0           \t schema_version:            \t properties: {}           \t value: b'Message NO.3'\n",
      "msg data: b'Message NO.4'           \t msg id: (17,3,-1,-1)           \t partition_key:            \t publish_timestamp: 1681469762366           \t  event_timestamp: 0           \t redelivery_count: 0           \t schema_version:            \t properties: {}           \t value: b'Message NO.4'\n",
      "msg data: b'Message NO.5'           \t msg id: (17,4,-1,-1)           \t partition_key:            \t publish_timestamp: 1681469762369           \t  event_timestamp: 0           \t redelivery_count: 0           \t schema_version:            \t properties: {}           \t value: b'Message NO.5'\n",
      "msg data: b'Message NO.6'           \t msg id: (17,5,-1,-1)           \t partition_key:            \t publish_timestamp: 1681469762374           \t  event_timestamp: 0           \t redelivery_count: 0           \t schema_version:            \t properties: {}           \t value: b'Message NO.6'\n",
      "msg data: b'Message NO.7'           \t msg id: (17,6,-1,-1)           \t partition_key:            \t publish_timestamp: 1681469762377           \t  event_timestamp: 0           \t redelivery_count: 0           \t schema_version:            \t properties: {}           \t value: b'Message NO.7'\n",
      "msg data: b'Message NO.8'           \t msg id: (17,7,-1,-1)           \t partition_key:            \t publish_timestamp: 1681469762380           \t  event_timestamp: 0           \t redelivery_count: 0           \t schema_version:            \t properties: {}           \t value: b'Message NO.8'\n",
      "msg data: b'Message NO.9'           \t msg id: (17,8,-1,-1)           \t partition_key:            \t publish_timestamp: 1681469762384           \t  event_timestamp: 0           \t redelivery_count: 0           \t schema_version:            \t properties: {}           \t value: b'Message NO.9'\n",
      "msg data: b'Message NO.10'           \t msg id: (17,9,-1,-1)           \t partition_key:            \t publish_timestamp: 1681469762387           \t  event_timestamp: 0           \t redelivery_count: 0           \t schema_version:            \t properties: {}           \t value: b'Message NO.10'\n",
      "msg data: b'Message NO.1'           \t msg id: (17,10,-1,-1)           \t partition_key:            \t publish_timestamp: 1681480982748           \t  event_timestamp: 0           \t redelivery_count: 0           \t schema_version:            \t properties: {}           \t value: b'Message NO.1'\n",
      "msg data: b'Message NO.2'           \t msg id: (17,11,-1,-1)           \t partition_key:            \t publish_timestamp: 1681480982780           \t  event_timestamp: 0           \t redelivery_count: 0           \t schema_version:            \t properties: {}           \t value: b'Message NO.2'\n",
      "msg data: b'Message NO.3'           \t msg id: (17,12,-1,-1)           \t partition_key:            \t publish_timestamp: 1681480982784           \t  event_timestamp: 0           \t redelivery_count: 0           \t schema_version:            \t properties: {}           \t value: b'Message NO.3'\n",
      "msg data: b'Message NO.4'           \t msg id: (17,13,-1,-1)           \t partition_key:            \t publish_timestamp: 1681480982787           \t  event_timestamp: 0           \t redelivery_count: 0           \t schema_version:            \t properties: {}           \t value: b'Message NO.4'\n",
      "msg data: b'Message NO.5'           \t msg id: (17,14,-1,-1)           \t partition_key:            \t publish_timestamp: 1681480982791           \t  event_timestamp: 0           \t redelivery_count: 0           \t schema_version:            \t properties: {}           \t value: b'Message NO.5'\n",
      "msg data: b'Message NO.6'           \t msg id: (17,15,-1,-1)           \t partition_key:            \t publish_timestamp: 1681480982795           \t  event_timestamp: 0           \t redelivery_count: 0           \t schema_version:            \t properties: {}           \t value: b'Message NO.6'\n",
      "msg data: b'Message NO.7'           \t msg id: (17,16,-1,-1)           \t partition_key:            \t publish_timestamp: 1681480982799           \t  event_timestamp: 0           \t redelivery_count: 0           \t schema_version:            \t properties: {}           \t value: b'Message NO.7'\n",
      "msg data: b'Message NO.8'           \t msg id: (17,17,-1,-1)           \t partition_key:            \t publish_timestamp: 1681480982802           \t  event_timestamp: 0           \t redelivery_count: 0           \t schema_version:            \t properties: {}           \t value: b'Message NO.8'\n",
      "msg data: b'Message NO.9'           \t msg id: (17,18,-1,-1)           \t partition_key:            \t publish_timestamp: 1681480982806           \t  event_timestamp: 0           \t redelivery_count: 0           \t schema_version:            \t properties: {}           \t value: b'Message NO.9'\n",
      "msg data: b'Message NO.10'           \t msg id: (17,19,-1,-1)           \t partition_key:            \t publish_timestamp: 1681480982810           \t  event_timestamp: 0           \t redelivery_count: 0           \t schema_version:            \t properties: {}           \t value: b'Message NO.10'\n",
      "msg data: b'Message NO.1'           \t msg id: (17,20,-1,-1)           \t partition_key:            \t publish_timestamp: 1681481053669           \t  event_timestamp: 0           \t redelivery_count: 0           \t schema_version:            \t properties: {}           \t value: b'Message NO.1'\n",
      "msg data: b'Message NO.2'           \t msg id: (17,21,-1,-1)           \t partition_key:            \t publish_timestamp: 1681481053695           \t  event_timestamp: 0           \t redelivery_count: 0           \t schema_version:            \t properties: {}           \t value: b'Message NO.2'\n",
      "msg data: b'Message NO.3'           \t msg id: (17,22,-1,-1)           \t partition_key:            \t publish_timestamp: 1681481053698           \t  event_timestamp: 0           \t redelivery_count: 0           \t schema_version:            \t properties: {}           \t value: b'Message NO.3'\n",
      "msg data: b'Message NO.4'           \t msg id: (17,23,-1,-1)           \t partition_key:            \t publish_timestamp: 1681481053701           \t  event_timestamp: 0           \t redelivery_count: 0           \t schema_version:            \t properties: {}           \t value: b'Message NO.4'\n",
      "msg data: b'Message NO.5'           \t msg id: (17,24,-1,-1)           \t partition_key:            \t publish_timestamp: 1681481053706           \t  event_timestamp: 0           \t redelivery_count: 0           \t schema_version:            \t properties: {}           \t value: b'Message NO.5'\n",
      "msg data: b'Message NO.6'           \t msg id: (17,25,-1,-1)           \t partition_key:            \t publish_timestamp: 1681481053709           \t  event_timestamp: 0           \t redelivery_count: 0           \t schema_version:            \t properties: {}           \t value: b'Message NO.6'\n",
      "msg data: b'Message NO.7'           \t msg id: (17,26,-1,-1)           \t partition_key:            \t publish_timestamp: 1681481053711           \t  event_timestamp: 0           \t redelivery_count: 0           \t schema_version:            \t properties: {}           \t value: b'Message NO.7'\n",
      "msg data: b'Message NO.8'           \t msg id: (17,27,-1,-1)           \t partition_key:            \t publish_timestamp: 1681481053714           \t  event_timestamp: 0           \t redelivery_count: 0           \t schema_version:            \t properties: {}           \t value: b'Message NO.8'\n",
      "msg data: b'Message NO.9'           \t msg id: (17,28,-1,-1)           \t partition_key:            \t publish_timestamp: 1681481053718           \t  event_timestamp: 0           \t redelivery_count: 0           \t schema_version:            \t properties: {}           \t value: b'Message NO.9'\n",
      "msg data: b'Message NO.10'           \t msg id: (17,29,-1,-1)           \t partition_key:            \t publish_timestamp: 1681481053721           \t  event_timestamp: 0           \t redelivery_count: 0           \t schema_version:            \t properties: {}           \t value: b'Message NO.10'\n"
     ]
    },
    {
     "ename": "SystemError",
     "evalue": "",
     "output_type": "error",
     "traceback": [
      "\u001b[0;31m---------------------------------------------------------------------------\u001b[0m",
      "\u001b[0;31mKeyboardInterrupt\u001b[0m                         Traceback (most recent call last)",
      "\u001b[0;31mKeyboardInterrupt\u001b[0m: ",
      "\nThe above exception was the direct cause of the following exception:\n",
      "\u001b[0;31mSystemError\u001b[0m                               Traceback (most recent call last)",
      "Cell \u001b[0;32mIn[27], line 3\u001b[0m\n\u001b[1;32m      1\u001b[0m reader \u001b[39m=\u001b[39m client\u001b[39m.\u001b[39mcreate_reader(\u001b[39m'\u001b[39m\u001b[39mqs-topic\u001b[39m\u001b[39m'\u001b[39m, start_message_id\u001b[39m=\u001b[39mMessageId\u001b[39m.\u001b[39mearliest)\n\u001b[1;32m      2\u001b[0m \u001b[39mwhile\u001b[39;00m \u001b[39mTrue\u001b[39;00m:\n\u001b[0;32m----> 3\u001b[0m     msg \u001b[39m=\u001b[39m reader\u001b[39m.\u001b[39;49mread_next()\n\u001b[1;32m      4\u001b[0m     \u001b[39mprint\u001b[39m(\u001b[39mf\u001b[39m\u001b[39m\"\u001b[39m\u001b[39mmsg data: \u001b[39m\u001b[39m{\u001b[39;00mmsg\u001b[39m.\u001b[39mdata()\u001b[39m}\u001b[39;00m\u001b[39m \u001b[39m\u001b[39m\\\u001b[39;00m\n\u001b[1;32m      5\u001b[0m \u001b[39m          \u001b[39m\u001b[39m\\t\u001b[39;00m\u001b[39m msg id: \u001b[39m\u001b[39m{\u001b[39;00mmsg\u001b[39m.\u001b[39mmessage_id()\u001b[39m}\u001b[39;00m\u001b[39m \u001b[39m\u001b[39m\\\u001b[39;00m\n\u001b[1;32m      6\u001b[0m \u001b[39m          \u001b[39m\u001b[39m\\t\u001b[39;00m\u001b[39m partition_key: \u001b[39m\u001b[39m{\u001b[39;00mmsg\u001b[39m.\u001b[39mpartition_key()\u001b[39m}\u001b[39;00m\u001b[39m \u001b[39m\u001b[39m\\\u001b[39;00m\n\u001b[0;32m   (...)\u001b[0m\n\u001b[1;32m     11\u001b[0m \u001b[39m          \u001b[39m\u001b[39m\\t\u001b[39;00m\u001b[39m properties: \u001b[39m\u001b[39m{\u001b[39;00mmsg\u001b[39m.\u001b[39mproperties()\u001b[39m}\u001b[39;00m\u001b[39m \u001b[39m\u001b[39m\\\u001b[39;00m\n\u001b[1;32m     12\u001b[0m \u001b[39m          \u001b[39m\u001b[39m\\t\u001b[39;00m\u001b[39m value: \u001b[39m\u001b[39m{\u001b[39;00mmsg\u001b[39m.\u001b[39mvalue()\u001b[39m}\u001b[39;00m\u001b[39m\"\u001b[39m)\n",
      "File \u001b[0;32m~/opt/miniconda3/lib/python3.9/site-packages/pulsar/__init__.py:1436\u001b[0m, in \u001b[0;36mReader.read_next\u001b[0;34m(self, timeout_millis)\u001b[0m\n\u001b[1;32m   1423\u001b[0m \u001b[39m\"\"\"\u001b[39;00m\n\u001b[1;32m   1424\u001b[0m \u001b[39mRead a single message.\u001b[39;00m\n\u001b[1;32m   1425\u001b[0m \n\u001b[0;32m   (...)\u001b[0m\n\u001b[1;32m   1433\u001b[0m \u001b[39m    If specified, the receiver will raise an exception if a message is not available within the timeout.\u001b[39;00m\n\u001b[1;32m   1434\u001b[0m \u001b[39m\"\"\"\u001b[39;00m\n\u001b[1;32m   1435\u001b[0m \u001b[39mif\u001b[39;00m timeout_millis \u001b[39mis\u001b[39;00m \u001b[39mNone\u001b[39;00m:\n\u001b[0;32m-> 1436\u001b[0m     msg \u001b[39m=\u001b[39m \u001b[39mself\u001b[39;49m\u001b[39m.\u001b[39;49m_reader\u001b[39m.\u001b[39;49mread_next()\n\u001b[1;32m   1437\u001b[0m \u001b[39melse\u001b[39;00m:\n\u001b[1;32m   1438\u001b[0m     _check_type(\u001b[39mint\u001b[39m, timeout_millis, \u001b[39m'\u001b[39m\u001b[39mtimeout_millis\u001b[39m\u001b[39m'\u001b[39m)\n",
      "\u001b[0;31mSystemError\u001b[0m: "
     ]
    },
    {
     "name": "stdout",
     "output_type": "stream",
     "text": [
      "2023-04-14 22:18:04.004 INFO  [0x7000082f7000] ConsumerStatsImpl:68 | Consumer [persistent://public/default/qs-topic, reader-ff3a3b953e, 0] , ConsumerStatsImpl (numBytesRecieved_ = 0, totalNumBytesRecieved_ = 0, receivedMsgMap_ = {}, ackedMsgMap_ = {}, totalReceivedMsgMap_ = {}, totalAckedMsgMap_ = {})\n",
      "2023-04-14 22:18:04.004 INFO  [0x7000082f7000] ConsumerStatsImpl:68 | Consumer [persistent://public/default/qs-topic, reader-754c773a78, 1] , ConsumerStatsImpl (numBytesRecieved_ = 0, totalNumBytesRecieved_ = 0, receivedMsgMap_ = {}, ackedMsgMap_ = {}, totalReceivedMsgMap_ = {[Key: TimeOut, Value: 198], }, totalAckedMsgMap_ = {})\n",
      "2023-04-14 22:18:04.004 INFO  [0x7000082f7000] ConsumerStatsImpl:68 | Consumer [persistent://public/default/qs-topic, my-sub, 2] , ConsumerStatsImpl (numBytesRecieved_ = 0, totalNumBytesRecieved_ = 0, receivedMsgMap_ = {}, ackedMsgMap_ = {}, totalReceivedMsgMap_ = {}, totalAckedMsgMap_ = {})\n",
      "2023-04-14 22:25:04.002 INFO  [0x700008480000] ConsumerStatsImpl:68 | Consumer [persistent://public/default/qs-topic, my-sub2, 1] , ConsumerStatsImpl (numBytesRecieved_ = 0, totalNumBytesRecieved_ = 0, receivedMsgMap_ = {}, ackedMsgMap_ = {}, totalReceivedMsgMap_ = {}, totalAckedMsgMap_ = {})\n",
      "2023-04-14 22:25:04.002 INFO  [0x700008480000] ConsumerStatsImpl:68 | Consumer [persistent://public/default/qs-topic, reader-74b4205ba3, 6] , ConsumerStatsImpl (numBytesRecieved_ = 363, totalNumBytesRecieved_ = 363, receivedMsgMap_ = {[Key: Ok, Value: 30], [Key: TimeOut, Value: 46], }, ackedMsgMap_ = {[Key: {Result: Ok, ackType: 1}, Value: 30], }, totalReceivedMsgMap_ = {[Key: Ok, Value: 30], [Key: TimeOut, Value: 46], }, totalAckedMsgMap_ = {[Key: {Result: Ok, ackType: 1}, Value: 30], })\n",
      "2023-04-14 22:25:04.002 INFO  [0x700008480000] ConsumerStatsImpl:68 | Consumer [persistent://public/default/qs-topic, my-sub3, 4] , ConsumerStatsImpl (numBytesRecieved_ = 0, totalNumBytesRecieved_ = 0, receivedMsgMap_ = {}, ackedMsgMap_ = {}, totalReceivedMsgMap_ = {}, totalAckedMsgMap_ = {})\n",
      "2023-04-14 22:25:04.002 INFO  [0x700008480000] ConsumerStatsImpl:68 | Consumer [persistent://public/default/qs-topic, reader-f93dede686, 7] , ConsumerStatsImpl (numBytesRecieved_ = 363, totalNumBytesRecieved_ = 363, receivedMsgMap_ = {[Key: Ok, Value: 30], [Key: TimeOut, Value: 28], }, ackedMsgMap_ = {[Key: {Result: Ok, ackType: 1}, Value: 30], }, totalReceivedMsgMap_ = {[Key: Ok, Value: 30], [Key: TimeOut, Value: 28], }, totalAckedMsgMap_ = {[Key: {Result: Ok, ackType: 1}, Value: 30], })\n",
      "2023-04-14 22:25:04.002 INFO  [0x700008480000] ConsumerStatsImpl:68 | Consumer [persistent://public/default/qs-topic, my-sub4, 5] , ConsumerStatsImpl (numBytesRecieved_ = 0, totalNumBytesRecieved_ = 0, receivedMsgMap_ = {}, ackedMsgMap_ = {}, totalReceivedMsgMap_ = {}, totalAckedMsgMap_ = {})\n",
      "2023-04-14 22:25:04.002 INFO  [0x700008480000] ConsumerStatsImpl:68 | Consumer [persistent://public/default/qs-topic, reader-f1d1207b8b, 8] , ConsumerStatsImpl (numBytesRecieved_ = 363, totalNumBytesRecieved_ = 363, receivedMsgMap_ = {[Key: Ok, Value: 30], [Key: TimeOut, Value: 132], }, ackedMsgMap_ = {[Key: {Result: Ok, ackType: 1}, Value: 30], }, totalReceivedMsgMap_ = {[Key: Ok, Value: 30], [Key: TimeOut, Value: 132], }, totalAckedMsgMap_ = {[Key: {Result: Ok, ackType: 1}, Value: 30], })\n",
      "2023-04-14 22:25:25.586 INFO  [0x700008480000] ConsumerStatsImpl:68 | Consumer [persistent://public/default/qs-topic, reader-8ee03d3ef4, 9] , ConsumerStatsImpl (numBytesRecieved_ = 363, totalNumBytesRecieved_ = 363, receivedMsgMap_ = {[Key: Ok, Value: 30], [Key: TimeOut, Value: 212], }, ackedMsgMap_ = {[Key: {Result: Ok, ackType: 1}, Value: 30], }, totalReceivedMsgMap_ = {[Key: Ok, Value: 30], [Key: TimeOut, Value: 212], }, totalAckedMsgMap_ = {[Key: {Result: Ok, ackType: 1}, Value: 30], })\n"
     ]
    }
   ],
   "source": [
    "reader = client.create_reader('qs-topic', start_message_id=MessageId.earliest)\n",
    "while True:\n",
    "    msg = reader.read_next()\n",
    "    print(f\"msg data: {msg.data()} \\\n",
    "          \\t msg id: {msg.message_id()} \\\n",
    "          \\t partition_key: {msg.partition_key()} \\\n",
    "          \\t publish_timestamp: {msg.publish_timestamp()} \\\n",
    "          \\t  event_timestamp: {msg.event_timestamp()} \\\n",
    "          \\t redelivery_count: {msg.redelivery_count()} \\\n",
    "          \\t schema_version: {msg.schema_version()} \\\n",
    "          \\t properties: {msg.properties()} \\\n",
    "          \\t value: {msg.value()}\")"
   ]
  },
  {
   "cell_type": "code",
   "execution_count": null,
   "metadata": {},
   "outputs": [],
   "source": []
  }
 ],
 "metadata": {
  "kernelspec": {
   "display_name": ".venv",
   "language": "python",
   "name": "python3"
  },
  "language_info": {
   "codemirror_mode": {
    "name": "ipython",
    "version": 3
   },
   "file_extension": ".py",
   "mimetype": "text/x-python",
   "name": "python",
   "nbconvert_exporter": "python",
   "pygments_lexer": "ipython3",
   "version": "3.9.16"
  },
  "orig_nbformat": 4
 },
 "nbformat": 4,
 "nbformat_minor": 2
}
